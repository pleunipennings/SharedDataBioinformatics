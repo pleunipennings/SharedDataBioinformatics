{
  "nbformat": 4,
  "nbformat_minor": 0,
  "metadata": {
    "colab": {
      "name": "Final.ipynb",
      "provenance": [],
      "collapsed_sections": [],
      "authorship_tag": "ABX9TyNmIXCMijqezRc5tHaLcKky",
      "include_colab_link": true
    },
    "kernelspec": {
      "name": "python3",
      "display_name": "Python 3"
    }
  },
  "cells": [
    {
      "cell_type": "markdown",
      "metadata": {
        "id": "view-in-github",
        "colab_type": "text"
      },
      "source": [
        "<a href=\"https://colab.research.google.com/github/pleunipennings/SharedDataBioinformatics/blob/master/JABERI_AMIR_Final_PROJECT_5_21_2020.ipynb\" target=\"_parent\"><img src=\"https://colab.research.google.com/assets/colab-badge.svg\" alt=\"Open In Colab\"/></a>"
      ]
    },
    {
      "cell_type": "code",
      "metadata": {
        "id": "V-nj4M0_zkEI",
        "colab_type": "code",
        "outputId": "299fee00-2e1c-4f3e-82d0-ff992eeb9906",
        "colab": {
          "resources": {
            "http://localhost:8080/nbextensions/google.colab/files.js": {
              "data": "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",
              "ok": true,
              "headers": [
                [
                  "content-type",
                  "application/javascript"
                ]
              ],
              "status": 200,
              "status_text": ""
            }
          },
          "base_uri": "https://localhost:8080/",
          "height": 179
        }
      },
      "source": [
        "from google.colab import files\n",
        "file1 = files.upload()\n",
        "file2 = files.upload()\n",
        "file3 = files.upload()"
      ],
      "execution_count": 0,
      "outputs": [
        {
          "output_type": "display_data",
          "data": {
            "text/html": [
              "\n",
              "     <input type=\"file\" id=\"files-73edc0ea-9a68-4ce2-a43d-25a2c305d350\" name=\"files[]\" multiple disabled />\n",
              "     <output id=\"result-73edc0ea-9a68-4ce2-a43d-25a2c305d350\">\n",
              "      Upload widget is only available when the cell has been executed in the\n",
              "      current browser session. Please rerun this cell to enable.\n",
              "      </output>\n",
              "      <script src=\"/nbextensions/google.colab/files.js\"></script> "
            ],
            "text/plain": [
              "<IPython.core.display.HTML object>"
            ]
          },
          "metadata": {
            "tags": []
          }
        },
        {
          "output_type": "stream",
          "text": [
            "Saving coronavirus 2 isolate Wuhan-Hu-1.txt to coronavirus 2 isolate Wuhan-Hu-1.txt\n"
          ],
          "name": "stdout"
        },
        {
          "output_type": "display_data",
          "data": {
            "text/html": [
              "\n",
              "     <input type=\"file\" id=\"files-4873df64-6c3b-42f5-94e2-5c45356f557b\" name=\"files[]\" multiple disabled />\n",
              "     <output id=\"result-4873df64-6c3b-42f5-94e2-5c45356f557b\">\n",
              "      Upload widget is only available when the cell has been executed in the\n",
              "      current browser session. Please rerun this cell to enable.\n",
              "      </output>\n",
              "      <script src=\"/nbextensions/google.colab/files.js\"></script> "
            ],
            "text/plain": [
              "<IPython.core.display.HTML object>"
            ]
          },
          "metadata": {
            "tags": []
          }
        },
        {
          "output_type": "stream",
          "text": [
            "Saving Bat SARS like coronavirus.txt to Bat SARS like coronavirus.txt\n"
          ],
          "name": "stdout"
        },
        {
          "output_type": "display_data",
          "data": {
            "text/html": [
              "\n",
              "     <input type=\"file\" id=\"files-2429e24c-f98f-4a60-a81a-bd61dc20b45b\" name=\"files[]\" multiple disabled />\n",
              "     <output id=\"result-2429e24c-f98f-4a60-a81a-bd61dc20b45b\">\n",
              "      Upload widget is only available when the cell has been executed in the\n",
              "      current browser session. Please rerun this cell to enable.\n",
              "      </output>\n",
              "      <script src=\"/nbextensions/google.colab/files.js\"></script> "
            ],
            "text/plain": [
              "<IPython.core.display.HTML object>"
            ]
          },
          "metadata": {
            "tags": []
          }
        },
        {
          "output_type": "stream",
          "text": [
            "Saving SARS coronavirus  from China.txt to SARS coronavirus  from China.txt\n"
          ],
          "name": "stdout"
        }
      ]
    },
    {
      "cell_type": "code",
      "metadata": {
        "id": "XpkGfKka094_",
        "colab_type": "code",
        "colab": {}
      },
      "source": [
        "with open('coronavirus 2 isolate Wuhan-Hu-1.txt', 'r') as f:\n",
        "   coronavirus_wuhan_isolate=f.read()\n",
        "\n",
        "with open('Bat SARS like coronavirus.txt', 'r') as f:\n",
        "   Bat_SARS_like_coronavirus=f.read()\n",
        "\n",
        "with open('SARS coronavirus  from China.txt', 'r') as f:\n",
        "   SARS_coronavirus_from_China=f.read()"
      ],
      "execution_count": 0,
      "outputs": []
    },
    {
      "cell_type": "code",
      "metadata": {
        "id": "rQIg7ZSt21pu",
        "colab_type": "code",
        "colab": {}
      },
      "source": [
        "#count number of different nucleotides in a particular file \n",
        "def count_nucleotides(dna, nucleotide):\n",
        "    return dna.count(nucleotide)"
      ],
      "execution_count": 0,
      "outputs": []
    },
    {
      "cell_type": "code",
      "metadata": {
        "id": "Oo0muM463pwz",
        "colab_type": "code",
        "outputId": "dc206447-bb9a-4f57-c9d2-58822014dee9",
        "colab": {
          "base_uri": "https://localhost:8080/",
          "height": 34
        }
      },
      "source": [
        "#Calculate GC content of coronovirus-2 isolate from wuhan\n",
        "GC_Count_Corona_isolate_Wuhan= coronavirus_wuhan_isolate.count('G') + coronavirus_wuhan_isolate.count ('C')\n",
        "ATCG_Count_Corona_isolate_Wuhan =GC_Count_Corona_isolate_Wuhan + coronavirus_wuhan_isolate.count('A') + coronavirus_wuhan_isolate.count ('T')  \n",
        "GC_percentage_Corona_isolate_Wuhan = ((GC_Count_Corona_isolate_Wuhan )/(ATCG_Count_Corona_isolate_Wuhan)) *100\n",
        "print('GC content of SARS coronavirus-2 isolate from Wuhan is',round(GC_percentage_Corona_isolate_Wuhan),'percent') "
      ],
      "execution_count": 0,
      "outputs": [
        {
          "output_type": "stream",
          "text": [
            "GC content of SARS coronavirus-2 isolate from Wuhan is 38 percent\n"
          ],
          "name": "stdout"
        }
      ]
    },
    {
      "cell_type": "code",
      "metadata": {
        "id": "zmDgLjEAoSXC",
        "colab_type": "code",
        "outputId": "93640e4e-6b40-4012-ea3a-6c48a60f2638",
        "colab": {
          "base_uri": "https://localhost:8080/",
          "height": 34
        }
      },
      "source": [
        "#Calculate GC content of Bat_SARS_like_coronavirus\n",
        "GC_Count_Bat_SARS= Bat_SARS_like_coronavirus.count('G') + Bat_SARS_like_coronavirus.count ('C')\n",
        "ATCG_Count_Bat_SARS =GC_Count_Bat_SARS + Bat_SARS_like_coronavirus.count('A') + Bat_SARS_like_coronavirus.count ('T') \n",
        "GC_percentage_Bat_SARS_like_coronavirus = ((GC_Count_Bat_SARS )/(ATCG_Count_Bat_SARS)) *100\n",
        "print('GC content of','Bat SARS like coronavirus isolate is',round(GC_percentage_Bat_SARS_like_coronavirus),'percent') "
      ],
      "execution_count": 0,
      "outputs": [
        {
          "output_type": "stream",
          "text": [
            "GC content of Bat SARS like coronavirus isolate is 39 percent\n"
          ],
          "name": "stdout"
        }
      ]
    },
    {
      "cell_type": "code",
      "metadata": {
        "id": "i6JwPiER1YSW",
        "colab_type": "code",
        "outputId": "1fd58716-2bcc-446c-d90e-c022660fad4a",
        "colab": {
          "base_uri": "https://localhost:8080/",
          "height": 34
        }
      },
      "source": [
        "#Calculate GC content of SARS_coronavirus-1_from_China\n",
        "GC_Count_SARS_coronavirus_from_China= SARS_coronavirus_from_China.count('G') + SARS_coronavirus_from_China.count ('C')\n",
        "ATCG_SARS_coronavirus_from_China =GC_Count_SARS_coronavirus_from_China + SARS_coronavirus_from_China.count('A') + SARS_coronavirus_from_China.count ('T') \n",
        "GC_percentage_SARS_coronavirus_from_China = ((GC_Count_SARS_coronavirus_from_China )/(ATCG_SARS_coronavirus_from_China)) *100\n",
        "print('GC content of SARS coronavirus-1 isolate from China',round(GC_percentage_SARS_coronavirus_from_China),'percent') "
      ],
      "execution_count": 0,
      "outputs": [
        {
          "output_type": "stream",
          "text": [
            "GC content of SARS coronavirus-1 isolate from China 41 percent\n"
          ],
          "name": "stdout"
        }
      ]
    },
    {
      "cell_type": "code",
      "metadata": {
        "id": "hbFcMJUS7urv",
        "colab_type": "code",
        "outputId": "3c1f73e3-3100-47bb-9afb-bf96daea00a8",
        "colab": {
          "base_uri": "https://localhost:8080/",
          "height": 425
        }
      },
      "source": [
        "#Calculate nucleotide composition of coronavirus isolate_wuhan_China\n",
        "SARS_coronavirus_G_Count = coronavirus_wuhan_isolate.count ('G')\n",
        "SARS_coronavirus_G_Percentage= ((SARS_coronavirus_G_Count)/(ATCG_Count_Corona_isolate_Wuhan))*100\n",
        "\n",
        "SARS_coronavirus_C_Count = coronavirus_wuhan_isolate.count ('C')\n",
        "SARS_coronavirus_C_Percentage= ((SARS_coronavirus_C_Count)/(ATCG_Count_Corona_isolate_Wuhan))*100\n",
        "\n",
        "SARS_coronavirus_T_Count = coronavirus_wuhan_isolate.count ('T')\n",
        "SARS_coronavirus_T_Percentage= ((SARS_coronavirus_T_Count)/(ATCG_Count_Corona_isolate_Wuhan))*100\n",
        "\n",
        "SARS_coronavirus_A_Count = coronavirus_wuhan_isolate.count ('A')\n",
        "SARS_coronavirus_A_Percentage= ((SARS_coronavirus_A_Count)/(ATCG_Count_Corona_isolate_Wuhan))*100\n",
        "\n",
        "print('There are',SARS_coronavirus_G_Count,'(',round(SARS_coronavirus_G_Percentage),'percent)','Guanine nucleotides present in SARS COVID-19 sequence (Wuhan-china).')\n",
        "print(' ')\n",
        "print('There are',SARS_coronavirus_A_Count,'(',round(SARS_coronavirus_A_Percentage),'percent)','Adenine nucleotides present in SARS COVID-19 sequence (Wuhan-china).')\n",
        "print(' ')\n",
        "print('There are',SARS_coronavirus_C_Count,'(',round(SARS_coronavirus_C_Percentage),'percent)','Cystine nucleotides present in SARS COVID-19 sequence (Wuhan-china).')\n",
        "print(' ')\n",
        "print('There are',SARS_coronavirus_T_Count,'(',round(SARS_coronavirus_T_Percentage),'percent)','Thymine nucleotides present in SARS COVID-19 sequence (Wuhan-china).')\n",
        "print(' ')\n",
        "\n",
        "#Calculate nucleotide composition of Bat_SARS_like_coronavirus\n",
        "Bat_SARS_like_coronavirus_G_Count = Bat_SARS_like_coronavirus.count('G')\n",
        "Bat_SARS_like_coronavirus_G_Percentage = ((Bat_SARS_like_coronavirus_G_Count)/(ATCG_Count_Bat_SARS))*100\n",
        "\n",
        "Bat_SARS_like_coronavirus_C_Count = Bat_SARS_like_coronavirus.count('C')\n",
        "Bat_SARS_like_coronavirus_C_Percentage = ((Bat_SARS_like_coronavirus_C_Count)/(ATCG_Count_Bat_SARS))*100\n",
        "\n",
        "Bat_SARS_like_coronavirus_A_Count = Bat_SARS_like_coronavirus.count('A')\n",
        "Bat_SARS_like_coronavirus_A_Percentage = ((Bat_SARS_like_coronavirus_A_Count)/(ATCG_Count_Bat_SARS))*100\n",
        "\n",
        "Bat_SARS_like_coronavirus_T_Count = Bat_SARS_like_coronavirus.count('T')\n",
        "Bat_SARS_like_coronavirus_T_Percentage = ((Bat_SARS_like_coronavirus_T_Count)/(ATCG_Count_Bat_SARS))*100\n",
        "\n",
        "print('There are',Bat_SARS_like_coronavirus_A_Count,'(',round(Bat_SARS_like_coronavirus_A_Percentage),'percent)','Adenine nucleotides present in Bat SARS like Coronavirus sequence.')\n",
        "print(' ')\n",
        "print('There are',Bat_SARS_like_coronavirus_T_Count,'(',round(Bat_SARS_like_coronavirus_T_Percentage),'percent)','Thymine nucleotides present in Bat SARS like Coronavirus sequence.')\n",
        "print(' ')\n",
        "print('There are',Bat_SARS_like_coronavirus_C_Count,'(',round(Bat_SARS_like_coronavirus_C_Percentage),'percent)','Cystine nucleotides present in Bat SARS like Coronavirus sequence.')\n",
        "print(' ')\n",
        "print('There are',Bat_SARS_like_coronavirus_G_Count,'(',round(Bat_SARS_like_coronavirus_G_Percentage),'percent)','Guanine nucleotides present in Bat SARS like Coronavirus sequence.')\n",
        "print(' ')\n",
        "\n",
        "#Calculate nucleotide composition of SARS_coronavirus-1_from_China\n",
        "SARS_coronavirus_from_China_G_count = SARS_coronavirus_from_China.count('G')\n",
        "SARS_coronavirus_from_China_G_Percentage = ((SARS_coronavirus_from_China_G_count)/(ATCG_SARS_coronavirus_from_China))*100\n",
        "\n",
        "SARS_coronavirus_from_China_C_count = SARS_coronavirus_from_China.count('C')\n",
        "SARS_coronavirus_from_China_C_Percentage = ((SARS_coronavirus_from_China_C_count)/(ATCG_SARS_coronavirus_from_China))*100\n",
        "\n",
        "SARS_coronavirus_from_China_A_count = SARS_coronavirus_from_China.count('A')\n",
        "SARS_coronavirus_from_China_A_Percentage = ((SARS_coronavirus_from_China_A_count)/(ATCG_SARS_coronavirus_from_China))*100\n",
        "\n",
        "SARS_coronavirus_from_China_T_count = SARS_coronavirus_from_China.count('T')\n",
        "SARS_coronavirus_from_China_T_Percentage = ((SARS_coronavirus_from_China_T_count)/(ATCG_SARS_coronavirus_from_China))*100\n",
        "\n",
        "print('There are',SARS_coronavirus_from_China_G_count,'(',round(SARS_coronavirus_from_China_G_Percentage),'percent)','Guanine nucleotides present in SARS Coronavirus sequence (china).')\n",
        "print(' ')\n",
        "print('There are',SARS_coronavirus_from_China_C_count,'(',round(SARS_coronavirus_from_China_C_Percentage),'percent)','Cystine nucleotides present in SARS Coronavirus sequence (china).')\n",
        "print(' ')\n",
        "print('There are',SARS_coronavirus_from_China_A_count,'(',round(SARS_coronavirus_from_China_A_Percentage),'percent)','Adenine nucleotides present in SARS Coronavirus sequence (china).')\n",
        "print(' ')\n",
        "print('There are',SARS_coronavirus_from_China_T_count,'(',round(SARS_coronavirus_from_China_T_Percentage),'percent)','Thymine nucleotides present in SARS Coronavirus sequence (china).')\n",
        "print(' ')"
      ],
      "execution_count": 0,
      "outputs": [
        {
          "output_type": "stream",
          "text": [
            "There are 5863 ( 20 percent) Guanine nucleotides present in SARS COVID-19 sequence (Wuhan-china).\n",
            " \n",
            "There are 8954 ( 30 percent) Adenine nucleotides present in SARS COVID-19 sequence (Wuhan-china).\n",
            " \n",
            "There are 5492 ( 18 percent) Cystine nucleotides present in SARS COVID-19 sequence (Wuhan-china).\n",
            " \n",
            "There are 9594 ( 32 percent) Thymine nucleotides present in SARS COVID-19 sequence (Wuhan-china).\n",
            " \n",
            "There are 8740 ( 29 percent) Adenine nucleotides present in Bat SARS like Coronavirus sequence.\n",
            " \n",
            "There are 9468 ( 32 percent) Thymine nucleotides present in Bat SARS like Coronavirus sequence.\n",
            " \n",
            "There are 5574 ( 19 percent) Cystine nucleotides present in Bat SARS like Coronavirus sequence.\n",
            " \n",
            "There are 6020 ( 20 percent) Guanine nucleotides present in Bat SARS like Coronavirus sequence.\n",
            " \n",
            "There are 6184 ( 21 percent) Guanine nucleotides present in SARS Coronavirus sequence (china).\n",
            " \n",
            "There are 5937 ( 20 percent) Cystine nucleotides present in SARS Coronavirus sequence (china).\n",
            " \n",
            "There are 8450 ( 28 percent) Adenine nucleotides present in SARS Coronavirus sequence (china).\n",
            " \n",
            "There are 9135 ( 31 percent) Thymine nucleotides present in SARS Coronavirus sequence (china).\n",
            " \n"
          ],
          "name": "stdout"
        }
      ]
    },
    {
      "cell_type": "code",
      "metadata": {
        "id": "DvASm2PbYHrn",
        "colab_type": "code",
        "outputId": "178ea97c-0bf7-4c29-ab0e-c2baede18718",
        "colab": {
          "base_uri": "https://localhost:8080/",
          "height": 238
        }
      },
      "source": [
        "#Print calculated data in tabular form (table)\n",
        "from prettytable import PrettyTable\n",
        "table = PrettyTable(['','COVID-19', 'Bat Like Coronovirus','SARS like Coronavirus'])\n",
        "table.add_row(['    Number of Thymine nucleotides',SARS_coronavirus_T_Count ,Bat_SARS_like_coronavirus_T_Count,SARS_coronavirus_from_China_T_count])\n",
        "table.add_row(['    Number of Adenine nucleotides',SARS_coronavirus_A_Count ,Bat_SARS_like_coronavirus_A_Count,SARS_coronavirus_from_China_A_count])\n",
        "table.add_row(['    Number of Guanine nucleotides',SARS_coronavirus_G_Count ,Bat_SARS_like_coronavirus_G_Count,SARS_coronavirus_from_China_G_count])\n",
        "table.add_row(['    Number of Cystine nucleotides',SARS_coronavirus_C_Count ,Bat_SARS_like_coronavirus_C_Count,SARS_coronavirus_from_China_C_count])\n",
        "table.add_row(['    Percentage of Thymine content ',round(SARS_coronavirus_T_Percentage) ,round(Bat_SARS_like_coronavirus_T_Percentage),round(SARS_coronavirus_from_China_T_Percentage)])\n",
        "table.add_row(['    Percentage of Adenine content ',round(SARS_coronavirus_A_Percentage) ,round(Bat_SARS_like_coronavirus_A_Percentage),round(SARS_coronavirus_from_China_A_Percentage)])\n",
        "table.add_row(['    Percentage of Guanine content ',round(SARS_coronavirus_G_Percentage) ,round(Bat_SARS_like_coronavirus_G_Percentage),round(SARS_coronavirus_from_China_G_Percentage)])\n",
        "table.add_row(['    Percentage of Cystine content ',round(SARS_coronavirus_C_Percentage) ,round(Bat_SARS_like_coronavirus_C_Percentage),round(SARS_coronavirus_from_China_C_Percentage)])\n",
        "table.add_row(['    ***Percentage of Guanine/Cystine content ',round(GC_percentage_Corona_isolate_Wuhan) ,round(GC_percentage_Bat_SARS_like_coronavirus),round(GC_percentage_SARS_coronavirus_from_China)])\n",
        "print(table)"
      ],
      "execution_count": 0,
      "outputs": [
        {
          "output_type": "stream",
          "text": [
            "+-----------------------------------------------+----------+----------------------+-----------------------+\n",
            "|                                               | COVID-19 | Bat Like Coronovirus | SARS like Coronavirus |\n",
            "+-----------------------------------------------+----------+----------------------+-----------------------+\n",
            "|           Number of Thymine nucleotides       |   9594   |         9468         |          9135         |\n",
            "|           Number of Adenine nucleotides       |   8954   |         8740         |          8450         |\n",
            "|           Number of Guanine nucleotides       |   5863   |         6020         |          6184         |\n",
            "|           Number of Cystine nucleotides       |   5492   |         5574         |          5937         |\n",
            "|           Percentage of Thymine content       |    32    |          32          |           31          |\n",
            "|           Percentage of Adenine content       |    30    |          29          |           28          |\n",
            "|           Percentage of Guanine content       |    20    |          20          |           21          |\n",
            "|           Percentage of Cystine content       |    18    |          19          |           20          |\n",
            "|     ***Percentage of Guanine/Cystine content  |    38    |          39          |           41          |\n",
            "+-----------------------------------------------+----------+----------------------+-----------------------+\n"
          ],
          "name": "stdout"
        }
      ]
    },
    {
      "cell_type": "code",
      "metadata": {
        "id": "_7OvdwTqfyim",
        "colab_type": "code",
        "outputId": "d9a1ebe6-7026-463d-b67e-e854e19e96c9",
        "colab": {
          "base_uri": "https://localhost:8080/",
          "height": 295
        }
      },
      "source": [
        "import matplotlib.pyplot as plt \n",
        "# x-axis values \n",
        "x = ['Thymine','Adenine','Guanine','Cystine'] \n",
        "\n",
        "# COVID-19 y axis values \n",
        "y1 = [SARS_coronavirus_T_Count,SARS_coronavirus_A_Count,SARS_coronavirus_G_Count,SARS_coronavirus_C_Count] \n",
        "\n",
        "# plotting points for COVID-19 virus  \n",
        "plt.plot(x, y1, color='green', linestyle='dashed', linewidth = 3, \n",
        " marker='o', markerfacecolor='blue', markersize=4,label='COVID19') \n",
        "\n",
        "# Bat SARS like coronivirus y axis values \n",
        "y2 = [Bat_SARS_like_coronavirus_T_Count,Bat_SARS_like_coronavirus_A_Count,Bat_SARS_like_coronavirus_G_Count,Bat_SARS_like_coronavirus_C_Count]\n",
        "plt.plot(x, y2,label= 'Bat SARS like Coronavirus')  \n",
        "\n",
        "# SARS like coronivirus y axis values \n",
        "y3 = [SARS_coronavirus_from_China_T_count,SARS_coronavirus_from_China_A_count,SARS_coronavirus_from_China_G_count,SARS_coronavirus_from_China_C_count]\n",
        "plt.plot(x, y3,label= 'SARS like Cornavirus')  \n",
        "\n",
        "# naming the x axis \n",
        "plt.xlabel('Nucleotide') \n",
        "\n",
        "# naming the y axis \n",
        "plt.ylabel('Numbers of Nucleotides') \n",
        "  \n",
        "# giving title to graph \n",
        "plt.title('Comparing Number of Nucleotides of three different SARS viruses') \n",
        "\n",
        "# show a legend on the plot \n",
        "plt.legend()  \n",
        "\n",
        "# function to show the plot \n",
        "plt.show() \n",
        "\n"
      ],
      "execution_count": 0,
      "outputs": [
        {
          "output_type": "display_data",
          "data": {
            "image/png": "[encoded data removed]",
            "text/plain": [
              "<Figure size 432x288 with 1 Axes>"
            ]
          },
          "metadata": {
            "tags": [],
            "needs_background": "light"
          }
        }
      ]
    },
    {
      "cell_type": "code",
      "metadata": {
        "id": "5RCSohUQgPii",
        "colab_type": "code",
        "outputId": "f586cab7-7f1a-47e3-e45f-3298d9040ce9",
        "colab": {
          "base_uri": "https://localhost:8080/",
          "height": 281
        }
      },
      "source": [
        "import numpy as np\n",
        "import matplotlib.pyplot as plt\n",
        "\n",
        "#Bar Plot of GC content of 3 different coronaviruses\n",
        "objects = ('COVID-19', 'SARS like Coronavirus', '               Bat SARS like Coronovirus')\n",
        "y_pos = np.arange(len(objects))\n",
        "GCcontent = [round(GC_percentage_Corona_isolate_Wuhan),round(GC_percentage_SARS_coronavirus_from_China),round(GC_percentage_Bat_SARS_like_coronavirus)]\n",
        "\n",
        "plt.bar(y_pos, GCcontent, align='center', alpha=1)\n",
        "plt.xticks(y_pos, objects)\n",
        "plt.ylabel('GC Content Percentages')\n",
        "plt.title('GC content comparison of 3 different Coronoviruses')\n",
        "plt.show()"
      ],
      "execution_count": 0,
      "outputs": [
        {
          "output_type": "display_data",
          "data": {
            "image/png": "[encoded data removed]",
            "text/plain": [
              "<Figure size 432x288 with 1 Axes>"
            ]
          },
          "metadata": {
            "tags": [],
            "needs_background": "light"
          }
        }
      ]
    },
    {
      "cell_type": "code",
      "metadata": {
        "id": "4cKJyZ3a2m2e",
        "colab_type": "code",
        "colab": {}
      },
      "source": [
        "#compare the nucleaotides of COVID-19 and SARS like BAT coronavirus \n",
        "\n",
        "#creat a new variable to store the result after  \n",
        "#comparing the strings. \n",
        "COVID_19_diff = ''\n",
        "BAT_SARS_diff = ''\n",
        "\n",
        "#If one string is longer than the other\n",
        "maxlen=len(Bat_SARS_like_coronavirus) if len(coronavirus_wuhan_isolate)<len(Bat_SARS_like_coronavirus) else len(coronavirus_wuhan_isolate)\n",
        "\n",
        "#loop through the characters\n",
        "for i in range(maxlen):\n",
        "  seq1=coronavirus_wuhan_isolate[i:i+1]\n",
        "  seq2=Bat_SARS_like_coronavirus[i:i+1]\n",
        "  #create string with differences \n",
        "  if seq1 != seq2:\n",
        "    COVID_19_diff+=seq1\n",
        "    BAT_SARS_diff+=seq2 \n"
      ],
      "execution_count": 0,
      "outputs": []
    },
    {
      "cell_type": "code",
      "metadata": {
        "id": "tWbYmjImSYx7",
        "colab_type": "code",
        "outputId": "e11f50b3-7c4e-460f-bfd2-daf4441c3408",
        "colab": {
          "base_uri": "https://localhost:8080/",
          "height": 170
        }
      },
      "source": [
        "# count each nucleaotide that is different between in COVID-19 and SARS like bat coronavirus \n",
        "print('Number of Adenine nucleotide differences in COVID-19 when compared to SARS like bat corona virus is ',COVID_19_diff.count('A'))\n",
        "print('Number of Guanine nucleotide differences in COVID-19 when compared to SARS like bat corona virus is ',COVID_19_diff.count('G'))\n",
        "print('Number of Cystine nucleotide differences in COVID-19 when compared to SARS like bat corona virus is ',COVID_19_diff.count('C'))\n",
        "print('Number of Thymine nucleotide differences in COVID-19 when compared to SARS like bat corona virus is ',COVID_19_diff.count('T'))\n",
        "print('')\n",
        "print('Number of Adenine nucleotide differences in SARS like bat corona virus when compared to COVID-19 is ',BAT_SARS_diff.count('A'))\n",
        "print('Number of Guanine nucleotide differences in SARS like bat corona virus when compared to COVID-19 is ',BAT_SARS_diff.count('G'))\n",
        "print('Number of Cystine nucleotide differences in SARS like bat corona virus when compared to COVID-19 is ',BAT_SARS_diff.count('C'))\n",
        "print('Number of Thymine nucleotide differences in SARS like bat corona virus when compared to COVID-19 is ',BAT_SARS_diff.count('T'))\n"
      ],
      "execution_count": 0,
      "outputs": [
        {
          "output_type": "stream",
          "text": [
            "Number of Adenine nucleotide differences in COVID-19 when compared to SARS like bat corona virus is  6254\n",
            "Number of Guanine nucleotide differences in COVID-19 when compared to SARS like bat corona virus is  4781\n",
            "Number of Cystine nucleotide differences in COVID-19 when compared to SARS like bat corona virus is  4481\n",
            "Number of Thymine nucleotide differences in COVID-19 when compared to SARS like bat corona virus is  6586\n",
            "\n",
            "Number of Adenine nucleotide differences in SARS like bat corona virus when compared to COVID-19 is  6040\n",
            "Number of Guanine nucleotide differences in SARS like bat corona virus when compared to COVID-19 is  4938\n",
            "Number of Cystine nucleotide differences in SARS like bat corona virus when compared to COVID-19 is  4563\n",
            "Number of Thymine nucleotide differences in SARS like bat corona virus when compared to COVID-19 is  6460\n"
          ],
          "name": "stdout"
        }
      ]
    },
    {
      "cell_type": "code",
      "metadata": {
        "id": "LSBvFiS-W7MZ",
        "colab_type": "code",
        "colab": {}
      },
      "source": [
        "#compare the nucleaotides of COVID-19 and SARS coronavirus \n",
        "\n",
        "#creat a new variable to store the result after  \n",
        "#comparing the strings. \n",
        "COVID_19_diff2 = ''\n",
        "SARS_diff = ''\n",
        "\n",
        "#If one string is longer than the other\n",
        "maxlen=len(SARS_coronavirus_from_China) if len(coronavirus_wuhan_isolate)<len(SARS_coronavirus_from_China) else len(coronavirus_wuhan_isolate)\n",
        "\n",
        "#loop through the characters\n",
        "for i in range(maxlen):\n",
        "  seq1_1=coronavirus_wuhan_isolate[i:i+1]\n",
        "  seq2_1=SARS_coronavirus_from_China[i:i+1]\n",
        "  #create string with differences \n",
        "  if seq1_1 != seq2_1:\n",
        "    COVID_19_diff2+=seq1_1\n",
        "    SARS_diff+=seq2_1 "
      ],
      "execution_count": 0,
      "outputs": []
    },
    {
      "cell_type": "code",
      "metadata": {
        "id": "iHUtRmgUW_oE",
        "colab_type": "code",
        "outputId": "8e05aa3c-83cb-4867-c32c-41b5f835bade",
        "colab": {
          "base_uri": "https://localhost:8080/",
          "height": 170
        }
      },
      "source": [
        "# count each nucleaotide that is different between in COVID-19 and SARS coronavirus \n",
        "print('Number of Adenine nucleotide differences in COVID-19 when compared to SARS coronavirus is ',COVID_19_diff2.count('A'))\n",
        "print('Number of Guanine nucleotide differences in COVID-19 when compared to SARS coronavirus is ',COVID_19_diff2.count('G'))\n",
        "print('Number of Cystine nucleotide differences in COVID-19 when compared to SARS coronavirus is ',COVID_19_diff2.count('C'))\n",
        "print('Number of Thymine nucleotide differences in COVID-19 when compared to SARS coronavirus is ',COVID_19_diff2.count('T'))\n",
        "print('')\n",
        "print('Number of Adenine nucleotide differences in SARS coronavirus when compared to COVID-19 is ',SARS_diff.count('A'))\n",
        "print('Number of Guanine nucleotide differences in SARS coronavirus when compared to COVID-19 is ',SARS_diff.count('G'))\n",
        "print('Number of Cystine nucleotide differences in SARS coronavirus when compared to COVID-19 is ',SARS_diff.count('C'))\n",
        "print('Number of Thymine nucleotide differences in SARS coronavirus when compared to COVID-19 is ',SARS_diff.count('T'))\n"
      ],
      "execution_count": 0,
      "outputs": [
        {
          "output_type": "stream",
          "text": [
            "Number of Adenine nucleotide differences in COVID-19 when compared to SARS coronavirus is  6400\n",
            "Number of Guanine nucleotide differences in COVID-19 when compared to SARS coronavirus is  4676\n",
            "Number of Cystine nucleotide differences in COVID-19 when compared to SARS coronavirus is  4388\n",
            "Number of Thymine nucleotide differences in COVID-19 when compared to SARS coronavirus is  6608\n",
            "\n",
            "Number of Adenine nucleotide differences in SARS coronavirus when compared to COVID-19 is  5896\n",
            "Number of Guanine nucleotide differences in SARS coronavirus when compared to COVID-19 is  4997\n",
            "Number of Cystine nucleotide differences in SARS coronavirus when compared to COVID-19 is  4833\n",
            "Number of Thymine nucleotide differences in SARS coronavirus when compared to COVID-19 is  6149\n"
          ],
          "name": "stdout"
        }
      ]
    },
    {
      "cell_type": "code",
      "metadata": {
        "id": "Y0B8vYLcYBON",
        "colab_type": "code",
        "outputId": "345c9af5-e6ee-41d4-9342-8c9edc9579c2",
        "colab": {
          "base_uri": "https://localhost:8080/",
          "height": 85
        }
      },
      "source": [
        "#Score nucleotide differnces \n",
        "#Score comparison between COVID-19 and SARS like BAT coronavirus\n",
        "COVID19_vs_BAT_Adenine_score=(COVID_19_diff.count('A'))-(BAT_SARS_diff.count('A'))\n",
        "COVID19_vs_BAT_Cytosine_score=(COVID_19_diff.count('C'))-(BAT_SARS_diff.count('C'))\n",
        "COVID19_vs_BAT_Guanine_score=(COVID_19_diff.count('G'))-(BAT_SARS_diff.count('G'))\n",
        "COVID19_vs_BAT_Thymine_score=(COVID_19_diff.count('T'))-(BAT_SARS_diff.count('T'))\n",
        "\n",
        "print('Number of Adenine nucleotide differences between COVID-19 and SARS like BAT coronaviruse:' ,COVID19_vs_BAT_Adenine_score)\n",
        "print('Number of Cytosine nucleotide differences between COVID-19 and SARS like BAT coronaviruse:',abs(COVID19_vs_BAT_Cytosine_score))\n",
        "print('Number of Guanine nucleotide differences between COVID-19 and SARS like BAT coronaviruse:',abs(COVID19_vs_BAT_Guanine_score))\n",
        "print('Number of Thymine nucleotide differences between COVID-19 and SARS like BAT coronaviruse:',COVID19_vs_BAT_Thymine_score)"
      ],
      "execution_count": 0,
      "outputs": [
        {
          "output_type": "stream",
          "text": [
            "Number of Adenine nucleotide differences between COVID-19 and SARS like BAT coronaviruse: 214\n",
            "Number of Cytosine nucleotide differences between COVID-19 and SARS like BAT coronaviruse: 82\n",
            "Number of Guanine nucleotide differences between COVID-19 and SARS like BAT coronaviruse: 157\n",
            "Number of Thymine nucleotide differences between COVID-19 and SARS like BAT coronaviruse: 126\n"
          ],
          "name": "stdout"
        }
      ]
    },
    {
      "cell_type": "code",
      "metadata": {
        "id": "r5xZYDK6j-Kp",
        "colab_type": "code",
        "outputId": "bcfece33-74a0-4cdf-8dd8-350c6a2ea788",
        "colab": {
          "base_uri": "https://localhost:8080/",
          "height": 85
        }
      },
      "source": [
        "COVID19_vs_SARS_Adenine_score= (COVID_19_diff2.count('A'))-(SARS_diff.count('A'))\n",
        "COVID19_vs_SARS_Cytosine_score=(COVID_19_diff.count('C'))-(SARS_diff.count('C'))\n",
        "COVID19_vs_SARS_Guanine_score=(COVID_19_diff.count('G'))-(SARS_diff.count('G'))\n",
        "COVID19_vs_SARS_Thymine_score=(COVID_19_diff.count('T'))-(SARS_diff.count('T'))\n",
        "\n",
        "print('Number of Adenine nucleotide differences between COVID-19 and SARS coronaviruse:' ,COVID19_vs_SARS_Adenine_score)\n",
        "print('Number of Cytosine nucleotide differences between COVID-19 and SARS coronaviruse:',abs(COVID19_vs_SARS_Cytosine_score))\n",
        "print('Number of Guanine nucleotide differences between COVID-19 and SARS coronaviruse:',abs(COVID19_vs_SARS_Guanine_score))\n",
        "print('Number of Thymine nucleotide differences between COVID-19 and SARS coronaviruse:',COVID19_vs_SARS_Thymine_score)"
      ],
      "execution_count": 0,
      "outputs": [
        {
          "output_type": "stream",
          "text": [
            "Number of Adenine nucleotide differences between COVID-19 and SARS coronaviruse: 504\n",
            "Number of Cytosine nucleotide differences between COVID-19 and SARS coronaviruse: 352\n",
            "Number of Guanine nucleotide differences between COVID-19 and SARS coronaviruse: 216\n",
            "Number of Thymine nucleotide differences between COVID-19 and SARS coronaviruse: 437\n"
          ],
          "name": "stdout"
        }
      ]
    },
    {
      "cell_type": "code",
      "metadata": {
        "id": "tVDs9HdWkilQ",
        "colab_type": "code",
        "outputId": "b60690de-471f-4cd0-f31b-46361caec6bf",
        "colab": {
          "base_uri": "https://localhost:8080/",
          "height": 281
        }
      },
      "source": [
        "import numpy as np\n",
        "import matplotlib.pyplot as plt\n",
        "\n",
        "#Bar Plot of nucleotide differences between COVID-19 and SARS like BAT coronavirus.\n",
        "objects = ('Adenine', 'Cytosine', 'Guanine','Thymine')\n",
        "y_pos = np.arange(len(objects))\n",
        "COVID19_VS_BAT = [COVID19_vs_BAT_Adenine_score,abs(COVID19_vs_BAT_Cytosine_score),abs(COVID19_vs_BAT_Guanine_score),COVID19_vs_BAT_Thymine_score]\n",
        "\n",
        "plt.bar(y_pos, COVID19_VS_BAT, align='center', alpha=1)\n",
        "plt.xticks(y_pos, objects)\n",
        "plt.ylabel('Number of Nucleotide Differnces')\n",
        "plt.title('Nucleotide difference score between COVID-19 and SARS like BAT coronavirus')\n",
        "plt.show()"
      ],
      "execution_count": 0,
      "outputs": [
        {
          "output_type": "display_data",
          "data": {
            "image/png": "[encoded data removed]",
            "text/plain": [
              "<Figure size 432x288 with 1 Axes>"
            ]
          },
          "metadata": {
            "tags": [],
            "needs_background": "light"
          }
        }
      ]
    },
    {
      "cell_type": "code",
      "metadata": {
        "id": "EOhMNkMCqDKH",
        "colab_type": "code",
        "outputId": "9138fcbb-365f-4f97-bc86-453a1cd412dc",
        "colab": {
          "base_uri": "https://localhost:8080/",
          "height": 281
        }
      },
      "source": [
        "import numpy as np\n",
        "import matplotlib.pyplot as plt\n",
        "\n",
        "#Bar Plot of nucleotide differences between COVID-19 and SARS coronavirus.\n",
        "objects = ('Adenine', 'Cytosine', 'Guanine','Thymine')\n",
        "y_pos = np.arange(len(objects))\n",
        "COVID19_VS_SARS = [COVID19_vs_SARS_Adenine_score,abs(COVID19_vs_SARS_Cytosine_score),abs(COVID19_vs_SARS_Guanine_score),COVID19_vs_SARS_Thymine_score]\n",
        "\n",
        "plt.bar(y_pos, COVID19_VS_SARS, align='center', alpha=1)\n",
        "plt.xticks(y_pos, objects)\n",
        "plt.ylabel('Number of Nucleotide Differnces')\n",
        "plt.title('Nucleotide difference score between COVID-19 and SARS coronavirus')\n",
        "plt.show()"
      ],
      "execution_count": 0,
      "outputs": [
        {
          "output_type": "display_data",
          "data": {
            "image/png": "[encoded data removed]",
            "text/plain": [
              "<Figure size 432x288 with 1 Axes>"
            ]
          },
          "metadata": {
            "tags": [],
            "needs_background": "light"
          }
        }
      ]
    },
    {
      "cell_type": "code",
      "metadata": {
        "id": "z7k4uLHzrYnu",
        "colab_type": "code",
        "colab": {}
      },
      "source": [
        "# Code inpiration from following websites were utilized in this project \n",
        "#http://blog.adnansiddiqi.me/python-for-bioinformatics-getting-started-with-sequence-analysis-in-python/\n",
        "#https://codereview.stackexchange.com/questions/151329/reverse-complement-of-a-dna-string\n",
        "#https://medium.com/lean-in-women-in-tech-india/google-colab-the-beginners-guide-5ad3b417dfa\n",
        "#http://biopython.org/DIST/docs/tutorial/Tutorial.html\n",
        "#https://pypi.org/project/tabulate/\n",
        "#https://towardsdatascience.com/molecular-phylogenetics-using-bio-phylo-57ce27492ee9\n",
        "#https://towardsdatascience.com/pairwise-sequence-alignment-using-biopython-d1a9d0ba861f"
      ],
      "execution_count": 0,
      "outputs": []
    }
  ]
}